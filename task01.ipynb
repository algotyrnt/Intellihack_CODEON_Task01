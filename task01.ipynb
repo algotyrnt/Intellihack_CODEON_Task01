{
  "nbformat": 4,
  "nbformat_minor": 0,
  "metadata": {
    "colab": {
      "provenance": [],
      "authorship_tag": "ABX9TyP/TfXOTFzGxobivBZtjTf5"
    },
    "kernelspec": {
      "name": "python3",
      "display_name": "Python 3"
    },
    "language_info": {
      "name": "python"
    }
  },
  "cells": [
    {
      "cell_type": "code",
      "execution_count": null,
      "metadata": {
        "id": "-bj6TeWvAKW3"
      },
      "outputs": [],
      "source": []
    }
  ]
}